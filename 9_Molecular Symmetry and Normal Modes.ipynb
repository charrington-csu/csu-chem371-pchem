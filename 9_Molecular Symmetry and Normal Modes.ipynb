{
 "cells": [
  {
   "cell_type": "markdown",
   "metadata": {},
   "source": [
    "## Symmetry Operations, Point Groups, and Multiplication Tables"
   ]
  },
  {
   "cell_type": "markdown",
   "metadata": {},
   "source": [
    "Symmetry is useful in chemistry for a lot of reason -- often it can provide information about a molecule's quantum state without requiring a solution to the Schrodinger equation. Molecules with symmetry may have any of the following symmetry elements:\n",
    "\n",
    "1. An Identity (denoted as $E$) -- which, by definition, all molecules have\n",
    "2. n-fold axis or axes of symmetry (denoted as $C_n$)\n",
    "3. mirror plane(s) of symmetry (denoted as $\\sigma$)\n",
    "4. a center of symmetry (denoted as $i$) -- \n",
    "5. n-fold rotation-reflection axis or axes of symmetry (denoted $S_n$)\n",
    "\n",
    "Molecules that share the same symmetry elements (for example, tetrahedrons like methane and ammonium) form what are called point groups. Each of the symmetry elements within a point group can be represented as a matrix in 3D Cartesian space, and matrix notation is particularly convenient because multiplication of any matrices will generate the new locations of any points that were transformed by the symmetry operation. For example, the operation of rotating of a water molecule (which consists of 3 atoms, all with 3 degrees of freedom) around its $C_2$ axis is represented by the following matrix muliplication:\n",
    "\n",
    "$$ \\begin{bmatrix} 1 & 0 & 0 \\\\0 & 1 & 0 \\\\0 & 0 & 1 \\end{bmatrix} \\begin{bmatrix} -1 & 0 & 0 \\\\0 & -1 & 0 \\\\0 & 0 & 1 \\end{bmatrix} = \\begin{bmatrix} -1 & 0 & 0 \\\\0 & -1 & 0 \\\\0 & 0 & 1 \\end{bmatrix}$$\n",
    "\n",
    "In this example, the new 3x3 matrix consists of 3 vectors, each representing the new Cartesian coordinates for the different atoms in the water molecule. Also note that this matrix multiplication produces the matrix representation of the $C_2$ symmetry operation -- In general, multiplying any two matrices corresponding to two symmetry operations in a point group will lead to a matrix of another symmetry operation within the same point group. And, for any given point group, the successive application of any series of operations can be summarized in a multiplication table. Lets look at an example of a multiplication table."
   ]
  },
  {
   "cell_type": "markdown",
   "metadata": {},
   "source": [
    "## Example: $C_{3v}$ Point Group Multiplication Table"
   ]
  },
  {
   "cell_type": "markdown",
   "metadata": {},
   "source": [
    "Let's look at the $C_{3v}$ point group, for which ammonia is a great example. For any symmetry operation performed on ammonia, the nitrogen atom remains fixed, but the hydrogen atoms can translate in as many as 3! = 6 different ways -- in particular, by either a sequential rotation around its principle axis or by reflection over 3 equivalent, vertical mirror planes. If we designate each hydrogen atom as either # 1, 2, or 3, then the results of the six possible symmetry operations can be described as follows:\n",
    "\n",
    "the identity operation:  $ E\\left(1,2,3\\right) = \\left(1,2,3\\right) $, an operation that results in no change,\n",
    "\n",
    "the $C_3$ operation: $C_3\\left(1,2,3\\right) = \\left(2,3,1\\right)$, an operation that causes all 3 hydrogen atoms move\n",
    "\n",
    "another $C_3^2$ operation: $C_3^2\\left(1,2,3\\right) = \\left(3,1,2\\right)$, which produces a  result similar to that of the $C_3$ operation\n",
    "\n",
    "and three reflection operations, which each only cause two of the three hydrogen atoms to change positions,\n",
    "\n",
    "$\\sigma_1$ operation: $\\sigma_1\\left(1,2,3\\right) = \\left(1,3,2\\right)$, \n",
    "\n",
    "$\\sigma_2$ operation: $\\sigma_2\\left(1,2,3\\right) = \\left(3,2,1\\right)$,\n",
    "\n",
    "$\\sigma_3$ operation: $\\sigma_3\\left(1,2,3\\right) = \\left(2,1,3\\right)$.\n",
    "\n"
   ]
  },
  {
   "cell_type": "code",
   "execution_count": 53,
   "metadata": {},
   "outputs": [
    {
     "name": "stdout",
     "output_type": "stream",
     "text": [
      "C_3v\n",
      " o  || S0 | S1 | S2 | S3 | S4 | S5 |\n",
      "====||====|====|====|====|====|====|\n",
      " S0 || S0 | S1 | S2 | S3 | S4 | S5 |\n",
      "----||----|----|----|----|----|----|\n",
      " S1 || S1 | S2 | S0 | S5 | S3 | S4 |\n",
      "----||----|----|----|----|----|----|\n",
      " S2 || S2 | S0 | S1 | S4 | S5 | S3 |\n",
      "----||----|----|----|----|----|----|\n",
      " S3 || S3 | S4 | S5 | S0 | S1 | S2 |\n",
      "----||----|----|----|----|----|----|\n",
      " S4 || S4 | S5 | S3 | S2 | S0 | S1 |\n",
      "----||----|----|----|----|----|----|\n",
      " S5 || S5 | S3 | S4 | S1 | S2 | S0 |\n",
      "----||----|----|----|----|----|----|\n",
      "\n",
      "S0 = identity operation\n",
      "S1 = C3_1 operation\n",
      "S2 = C3_2 operation\n",
      "S3 = o1 operation\n",
      "S4 = o2 operation\n",
      "S5 = o3 operation\n",
      "Identity: ((1, 2, 3), (1, 2, 3))\n",
      "Inverse of C3_1: S2\n",
      "Inverse of C3_2: S1\n"
     ]
    }
   ],
   "source": [
    "class Group:\n",
    "    def __init__(self, elements, operation, table_name_map):\n",
    "        \"\"\"\n",
    "        elements:       elements of the group\n",
    "        operation:      operation on group\n",
    "        table_name_map: map for cayley table to prettify any complex objects in groups for printing\n",
    "        \"\"\"\n",
    "        self.elements = elements\n",
    "        self.operation = operation\n",
    "        self.table_name_map = table_name_map\n",
    "        self.id = None #placeholder to find group identity later\n",
    "    \n",
    "    def compose(self, e1, e2):\n",
    "        \"\"\"\n",
    "        e1: element 1 of composition\n",
    "        e2: element 2 of composition\n",
    "        returns the composition of e1 and e2. read \"e1 o e2\"\n",
    "        \"\"\"\n",
    "        if (e1 not in self.elements) or (e2 not in self.elements):\n",
    "            raise Exception('Elements not in group.')\n",
    "        value = self.operation(e1, e2)\n",
    "        if value not in self.elements:\n",
    "            raise Exception('Closure does not hold for {0} + {1} = {2}.'.format(e1,e2,value))\n",
    "        return value\n",
    "        \n",
    "    def identity(self):\n",
    "        \"\"\"\n",
    "        Gets the identity of the group\n",
    "        \"\"\"\n",
    "        if self.id:\n",
    "            return self.id #if already found return\n",
    "        for element in self.elements:\n",
    "            for test_element in self.elements:\n",
    "                if not (self.compose(element, test_element) == test_element):\n",
    "                    break\n",
    "            self.id = element\n",
    "            return element\n",
    "        raise Exception('No identity, not a group')\n",
    "\n",
    "    def inverse(self, e):\n",
    "        \"\"\"\n",
    "        e: element to find inverse\n",
    "        \"\"\"\n",
    "        for element in self.elements:\n",
    "            if self.compose(e, element) == self.identity():\n",
    "                return element\n",
    "        raise Exception('No inverse for {0}, not a group'.format(e)) \n",
    "\n",
    "    def __repr__(self):\n",
    "        longest = max(len(str(v)) for k,v in self.table_name_map.items()) + 2\n",
    "        def cell(data,filler=' '):\n",
    "            return '{message:{fill}{align}{width}}'.format(\n",
    "               message=data,\n",
    "               fill=filler,\n",
    "               align='^',\n",
    "               width=longest\n",
    "            )\n",
    "        def data_cell(e):\n",
    "            return cell(str(self.table_name_map[e]))\n",
    "        vert_sepr = '|' #vertical bar separator\n",
    "        def hori_sepr(char): #horizontal row separator\n",
    "            return cell('',filler=char)\n",
    "        def row_sepr(char): #row separator\n",
    "            return (hori_sepr(char) + vert_sepr * 2) + ((hori_sepr(char) + vert_sepr) * len(self.elements)) + '\\n'\n",
    "\n",
    "        cayley = cell('o') + vert_sepr * 2\n",
    "        for header in self.elements:\n",
    "            cayley += data_cell(header) + vert_sepr\n",
    "        cayley += '\\n' + row_sepr('=')\n",
    "\n",
    "        for row in self.elements:\n",
    "            line = (data_cell(row) + vert_sepr * 2)\n",
    "            for column in self.elements:\n",
    "                line += data_cell(self.compose(row,column)) + vert_sepr\n",
    "            cayley += line + '\\n' + row_sepr('-')\n",
    "        return cayley\n",
    "\n",
    "\n",
    "\n",
    "if __name__ == '__main__':\n",
    "\n",
    "    #group C_3v #example: ammonia\n",
    "\n",
    "    E = ((1,2,3),(1,2,3)) #identity operation \n",
    "    C3_1 = ((1,2,3),(2,3,1)) # 120 degree rotation around the z axis (clockwise or counterclockwise)\n",
    "    C3_2 = ((1,2,3),(3,1,2)) # a second 120 degree rotation around the z axis\n",
    "    o1 = ((1,2,3),(1,3,2)) # Reflection over the first of the three N-H bonds\n",
    "    o2 = ((1,2,3),(3,2,1)) # Reflection over the second N-H bond\n",
    "    o3 = ((1,2,3),(2,1,3)) # Reflection over the third N-H bond\n",
    "    \n",
    "    S = (E,C3_1,C3_2,o1,o2,o3) #all point group operations\n",
    "    \n",
    "    name_map = { S[i] : \"S{0}\".format(i) for i in range(0,len(S)) }\n",
    "    \n",
    "    #multiplying operations in C_3v group\n",
    "    \n",
    "    def map(e1,e2):\n",
    "        return ((1,2,3), tuple( e1[1][e1[0].index(i)] for i in e2[1] ) )\n",
    "    C3v = Group(S, map, name_map)\n",
    "    print(\"C_3v\")\n",
    "    print(C3v)\n",
    "    \n",
    "    print(\"S0 = identity operation\")\n",
    "    print(\"S1 = C3_1 operation\")\n",
    "    print(\"S2 = C3_2 operation\")\n",
    "    print(\"S3 = o1 operation\")\n",
    "    print(\"S4 = o2 operation\")\n",
    "    print(\"S5 = o3 operation\")\n",
    "    \n",
    "    print(\"Identity: {0}\".format(C3v.identity()))\n",
    "    \n",
    "    print(\"Inverse of C3_1: {0}\".format(name_map[C3v.inverse(C3_1)]))\n",
    "    print(\"Inverse of C3_2: {0}\".format(name_map[C3v.inverse(C3_2)]))\n"
   ]
  },
  {
   "cell_type": "markdown",
   "metadata": {},
   "source": [
    "## Practice\n",
    "\n",
    "Reproduce the multiplication tables for water and boric acid."
   ]
  },
  {
   "cell_type": "code",
   "execution_count": null,
   "metadata": {},
   "outputs": [],
   "source": []
  },
  {
   "cell_type": "code",
   "execution_count": null,
   "metadata": {},
   "outputs": [],
   "source": []
  },
  {
   "cell_type": "code",
   "execution_count": null,
   "metadata": {},
   "outputs": [],
   "source": []
  },
  {
   "cell_type": "code",
   "execution_count": null,
   "metadata": {},
   "outputs": [],
   "source": []
  },
  {
   "cell_type": "code",
   "execution_count": null,
   "metadata": {},
   "outputs": [],
   "source": []
  },
  {
   "cell_type": "markdown",
   "metadata": {},
   "source": [
    "## Symmetry Operations Don't Just Apply to Translational and Rotational Motion"
   ]
  },
  {
   "cell_type": "markdown",
   "metadata": {},
   "source": [
    "Symmetry also applies to vibrational and electronic transitions (among other things). Interestingly, we can predict which electronic or vibronic transitions are forbidden as a result of symmetry, and we can also predict the number of peaks that will appear in an IR or Raman spectra by identifying the symmetry of the vibrational normal modes of any polyatomic molecule."
   ]
  },
  {
   "cell_type": "markdown",
   "metadata": {},
   "source": [
    "### Normal Modes"
   ]
  },
  {
   "cell_type": "markdown",
   "metadata": {},
   "source": [
    "Every normal mode has a certain type of symmetry associated with it. To determine the symmetries of these vibrations, we perform all of the possible symmetry matrix operations on the molecular coordinates of each atom within a given molecule. \n",
    "\n",
    "For $H_2O$ (which belongs to the point group $C_{2v}$ and has the symmetry elements E, $C_2$, $\\sigma_{xz}$, and $\\sigma_{yz}$), this process yields us three normal modes. We should expect this, as we can assume $3N-6$ modes for a nonlinear molecule (due to the 3 degrees of freedom of each atom and the 6 possible directions of translational and rotational motions of the molecule, which we don't care about for this analysis), but specifically, the three normal modes for $H_2O$ include two stretching modes and a bending mode."
   ]
  },
  {
   "cell_type": "markdown",
   "metadata": {},
   "source": [
    "***Symmetric Stretch***"
   ]
  },
  {
   "cell_type": "code",
   "execution_count": 15,
   "metadata": {},
   "outputs": [
    {
     "data": {
      "text/plain": [
       "(-2, 2)"
      ]
     },
     "execution_count": 15,
     "metadata": {},
     "output_type": "execute_result"
    },
    {
     "data": {
      "image/png": "[encoded data removed]",
      "text/plain": [
       "<Figure size 432x288 with 1 Axes>"
      ]
     },
     "metadata": {},
     "output_type": "display_data"
    }
   ],
   "source": [
    "import matplotlib.pyplot as plt\n",
    "#ax.annotate(\"\", xy=(0.5, 0.5), xytext=(0, 0),arrowprops=dict(arrowstyle=\"->\"))\n",
    "plt.arrow(h1[0],h1[1],v[0,-3],v[1,-3],fc='r')\n",
    "plt.arrow(o2[0],o2[1],v[3,-3],v[4,-3],fc='r')\n",
    "plt.arrow(h3[0],h3[1],v[6,-3],v[7,-3],fc='r')\n",
    "plt.text(h1[0],h1[1],'H')\n",
    "plt.text(o2[0],o2[1],'O')\n",
    "plt.text(h3[0],h3[1],'H')\n",
    "plt.xlim(-2,2)\n",
    "plt.ylim(-2,2)"
   ]
  },
  {
   "cell_type": "markdown",
   "metadata": {},
   "source": [
    "***Asymmetric Stretch***"
   ]
  },
  {
   "cell_type": "code",
   "execution_count": 10,
   "metadata": {},
   "outputs": [
    {
     "data": {
      "text/plain": [
       "(-2, 2)"
      ]
     },
     "execution_count": 10,
     "metadata": {},
     "output_type": "execute_result"
    },
    {
     "data": {
      "image/png": "[encoded data removed]",
      "text/plain": [
       "<Figure size 432x288 with 1 Axes>"
      ]
     },
     "metadata": {},
     "output_type": "display_data"
    }
   ],
   "source": [
    "import matplotlib.pyplot as plt\n",
    "#ax.annotate(\"\", xy=(0.5, 0.5), xytext=(0, 0),arrowprops=dict(arrowstyle=\"->\"))\n",
    "plt.arrow(h1[0],h1[1],v[0,-2],v[1,-2],fc='r')\n",
    "plt.arrow(o2[0],o2[1],v[3,-2],v[4,-2],fc='r')\n",
    "plt.arrow(h3[0],h3[1],v[6,-2],v[7,-2],fc='r')\n",
    "plt.text(h1[0],h1[1],'H')\n",
    "plt.text(o2[0],o2[1],'O')\n",
    "plt.text(h3[0],h3[1],'H')\n",
    "plt.xlim(-2,2)\n",
    "plt.ylim(-2,2)"
   ]
  },
  {
   "cell_type": "markdown",
   "metadata": {},
   "source": [
    "***Symmetric Bend***"
   ]
  },
  {
   "cell_type": "code",
   "execution_count": 13,
   "metadata": {},
   "outputs": [
    {
     "data": {
      "text/plain": [
       "(-2, 2)"
      ]
     },
     "execution_count": 13,
     "metadata": {},
     "output_type": "execute_result"
    },
    {
     "data": {
      "image/png": "[encoded data removed]",
      "text/plain": [
       "<Figure size 432x288 with 1 Axes>"
      ]
     },
     "metadata": {},
     "output_type": "display_data"
    }
   ],
   "source": [
    "import matplotlib.pyplot as plt\n",
    "#ax.annotate(\"\", xy=(0.5, 0.5), xytext=(0, 0),arrowprops=dict(arrowstyle=\"->\"))\n",
    "plt.arrow(h1[0],h1[1],v[0,-1],v[1,-1],fc='r')\n",
    "plt.arrow(o2[0],o2[1],v[3,-1],v[4,-1],fc='r')\n",
    "plt.arrow(h3[0],h3[1],v[6,-1],v[7,-1],fc='r')\n",
    "plt.text(h1[0],h1[1],'H1')\n",
    "plt.text(o2[0],o2[1],'O')\n",
    "plt.text(h3[0],h3[1],'H2')\n",
    "plt.xlim(-2,2)\n",
    "plt.ylim(-2,2)"
   ]
  },
  {
   "cell_type": "code",
   "execution_count": null,
   "metadata": {},
   "outputs": [],
   "source": []
  },
  {
   "cell_type": "code",
   "execution_count": null,
   "metadata": {},
   "outputs": [],
   "source": []
  },
  {
   "cell_type": "code",
   "execution_count": null,
   "metadata": {},
   "outputs": [],
   "source": []
  }
 ],
 "metadata": {
  "kernelspec": {
   "display_name": "Python 3",
   "language": "python",
   "name": "python3"
  },
  "language_info": {
   "codemirror_mode": {
    "name": "ipython",
    "version": 3
   },
   "file_extension": ".py",
   "mimetype": "text/x-python",
   "name": "python",
   "nbconvert_exporter": "python",
   "pygments_lexer": "ipython3",
   "version": "3.6.5"
  }
 },
 "nbformat": 4,
 "nbformat_minor": 2
}
